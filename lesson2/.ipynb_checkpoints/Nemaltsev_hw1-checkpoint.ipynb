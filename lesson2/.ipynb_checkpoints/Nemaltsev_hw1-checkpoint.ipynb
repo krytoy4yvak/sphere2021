{
 "cells": [
  {
   "cell_type": "markdown",
   "metadata": {},
   "source": [
    "**Общая информация**\n",
    "\n",
    "**Срок сдачи:** 29 марта 2021, 08:30 \n",
    "\n",
    "**Штраф за опоздание:** по 1 баллу за 24 часа задержки. Через 5 дней домашнее задание сгорает.\n",
    "\n",
    "При отправлении ДЗ указывайте фамилию в названии файла\n",
    "Присылать ДЗ необходимо в виде ссылки на свой github репозиторий на почту ml1.sphere@mail.ru с указанием темы в следующем формате:\n",
    "\n",
    "[ML0220, Задание 1] Фамилия Имя.\n",
    "\n",
    "Используйте данный Ipython Notebook при оформлении домашнего задания."
   ]
  },
  {
   "cell_type": "markdown",
   "metadata": {},
   "source": [
    "\n",
    "**Штрафные баллы:**\n",
    "\n",
    "1. Отсутствие фамилии в имени скрипта (скрипт должен называться по аналогии со stroykova_hw1.ipynb) -0.5 баллов\n",
    "2. Все строчки должны быть выполнены. Нужно, чтобы output команды можно было увидеть уже в git'е. В противном случае -0.5 баллов\n"
   ]
  },
  {
   "cell_type": "code",
   "execution_count": 41,
   "metadata": {},
   "outputs": [],
   "source": [
    "import numpy as np\n",
    "import matplotlib.pyplot as plt\n",
    "\n",
    "import seaborn as sns\n",
    "from sklearn import datasets\n",
    "from sklearn.base import BaseEstimator\n",
    "from sklearn.datasets import fetch_openml, fetch_20newsgroups\n",
    "\n",
    "from sklearn.model_selection import train_test_split\n",
    "from sklearn.neighbors import KNeighborsClassifier\n",
    "from sklearn.metrics import accuracy_score\n",
    "from scipy.spatial.distance import cdist\n",
    "from sklearn.neighbors import KDTree\n",
    "from sklearn.feature_extraction.text import CountVectorizer\n",
    "from sklearn.model_selection import KFold\n",
    "from sklearn.model_selection import cross_validate"
   ]
  },
  {
   "cell_type": "markdown",
   "metadata": {},
   "source": [
    "##### Задание 1 (1 балл)\n",
    "Реализовать KNN в классе MyKNeighborsClassifier (обязательное условие: точность не ниже sklearn реализации)\n",
    "Разберитесь самостоятельно, какая мера расстояния используется в KNeighborsClassifier дефолтно и реализуйте свой алгоритм именно с этой мерой. \n",
    "Для подсчета расстояний можно использовать функции [отсюда](https://docs.scipy.org/doc/scipy/reference/spatial.distance.html)"
   ]
  },
  {
   "cell_type": "code",
   "execution_count": 15,
   "metadata": {},
   "outputs": [],
   "source": [
    "class MyKNeighborsClassifier(BaseEstimator):\n",
    "    \n",
    "    def __init__(self, n_neighbors, algorithm='brute'):\n",
    "            self.n_neighbors=n_neighbors\n",
    "            self.algorithm=algorithm\n",
    "        #self.weights = _check_weights(weights)\n",
    "    \n",
    "    def fit(self, X, y):\n",
    "        self.X = X\n",
    "        self.y = y\n",
    "    \n",
    "    def predict(self, X_test):\n",
    "\n",
    "        if self.algorithm == 'brute':\n",
    "            neighbors = cdist(X_test, self.X, metric='minkowski')\n",
    "            \n",
    "            y_pred = np.array([\n",
    "                np.argmax(np.bincount(y_train[neighbor[:self.n_neighbors]]))\n",
    "                for neighbor in np.argsort(neighbors, axis=1)\n",
    "            ])\n",
    "\n",
    "            \n",
    "        elif self.algorithm=='kd_tree':\n",
    "            tree = KDTree(self.X)\n",
    "            dist, ind = tree.query(X_test, k=self.n_neighbors) \n",
    "            y_pred = np.array([\n",
    "                np.argmax(np.bincount(y_train[neighbor]))\n",
    "                for neighbor in ind\n",
    "            ])\n",
    "        return y_pred"
   ]
  },
  {
   "cell_type": "markdown",
   "metadata": {},
   "source": [
    "**IRIS**\n",
    "\n",
    "В библиотеке scikit-learn есть несколько датасетов из коробки. Один из них [Ирисы Фишера](https://ru.wikipedia.org/wiki/%D0%98%D1%80%D0%B8%D1%81%D1%8B_%D0%A4%D0%B8%D1%88%D0%B5%D1%80%D0%B0)"
   ]
  },
  {
   "cell_type": "code",
   "execution_count": 16,
   "metadata": {},
   "outputs": [],
   "source": [
    "iris = datasets.load_iris()"
   ]
  },
  {
   "cell_type": "code",
   "execution_count": 17,
   "metadata": {},
   "outputs": [],
   "source": [
    "X_train, X_test, y_train, y_test = train_test_split(iris.data, iris.target, test_size=0.1, stratify=iris.target)"
   ]
  },
  {
   "cell_type": "code",
   "execution_count": 18,
   "metadata": {},
   "outputs": [],
   "source": [
    "clf = KNeighborsClassifier(n_neighbors=2, algorithm='brute')\n",
    "my_clf = MyKNeighborsClassifier(n_neighbors=2, algorithm='brute')"
   ]
  },
  {
   "cell_type": "code",
   "execution_count": 19,
   "metadata": {},
   "outputs": [],
   "source": [
    "clf.fit(X_train, y_train)\n",
    "my_clf.fit(X_train, y_train)"
   ]
  },
  {
   "cell_type": "code",
   "execution_count": 20,
   "metadata": {},
   "outputs": [
    {
     "data": {
      "text/plain": [
       "array([1, 0, 2, 2, 0, 1, 0, 2, 0, 2, 1, 0, 2, 2, 1])"
      ]
     },
     "execution_count": 20,
     "metadata": {},
     "output_type": "execute_result"
    }
   ],
   "source": [
    "my_clf.predict(X_test)"
   ]
  },
  {
   "cell_type": "code",
   "execution_count": 21,
   "metadata": {},
   "outputs": [],
   "source": [
    "sklearn_pred = clf.predict(X_test)\n",
    "my_clf_pred = my_clf.predict(X_test)\n",
    "assert abs(accuracy_score(y_test, my_clf_pred) -  accuracy_score(y_test, sklearn_pred ) )<0.005, \"Score must be simillar\""
   ]
  },
  {
   "cell_type": "markdown",
   "metadata": {},
   "source": [
    "**Задание 2 (0.5 балла)**\n",
    "\n",
    "Давайте попробуем добиться скорости работы на fit, predict сравнимой со sklearn для iris. Допускается замедление не более чем в 2 раза. \n",
    "Для этого используем numpy. "
   ]
  },
  {
   "cell_type": "code",
   "execution_count": 22,
   "metadata": {},
   "outputs": [
    {
     "name": "stdout",
     "output_type": "stream",
     "text": [
      "CPU times: user 701 µs, sys: 400 µs, total: 1.1 ms\n",
      "Wall time: 735 µs\n"
     ]
    },
    {
     "data": {
      "text/plain": [
       "KNeighborsClassifier(algorithm='brute', n_neighbors=2)"
      ]
     },
     "execution_count": 22,
     "metadata": {},
     "output_type": "execute_result"
    }
   ],
   "source": [
    "%time clf.fit(X_train, y_train)"
   ]
  },
  {
   "cell_type": "code",
   "execution_count": 23,
   "metadata": {},
   "outputs": [
    {
     "name": "stdout",
     "output_type": "stream",
     "text": [
      "CPU times: user 4 µs, sys: 0 ns, total: 4 µs\n",
      "Wall time: 7.87 µs\n"
     ]
    }
   ],
   "source": [
    "%time my_clf.fit(X_train, y_train)"
   ]
  },
  {
   "cell_type": "code",
   "execution_count": 24,
   "metadata": {},
   "outputs": [
    {
     "name": "stdout",
     "output_type": "stream",
     "text": [
      "CPU times: user 1.79 ms, sys: 1.18 ms, total: 2.97 ms\n",
      "Wall time: 1.89 ms\n"
     ]
    },
    {
     "data": {
      "text/plain": [
       "array([1, 0, 2, 2, 0, 1, 0, 2, 0, 2, 1, 0, 2, 2, 1])"
      ]
     },
     "execution_count": 24,
     "metadata": {},
     "output_type": "execute_result"
    }
   ],
   "source": [
    "%time clf.predict(X_test)"
   ]
  },
  {
   "cell_type": "code",
   "execution_count": 25,
   "metadata": {},
   "outputs": [
    {
     "name": "stdout",
     "output_type": "stream",
     "text": [
      "CPU times: user 1.01 ms, sys: 697 µs, total: 1.7 ms\n",
      "Wall time: 798 µs\n"
     ]
    },
    {
     "data": {
      "text/plain": [
       "array([1, 0, 2, 2, 0, 1, 0, 2, 0, 2, 1, 0, 2, 2, 1])"
      ]
     },
     "execution_count": 25,
     "metadata": {},
     "output_type": "execute_result"
    }
   ],
   "source": [
    "%time my_clf.predict(X_test)"
   ]
  },
  {
   "cell_type": "markdown",
   "metadata": {},
   "source": [
    "###### Задание 3 (1 балл)\n",
    "Добавьте algorithm='kd_tree' в реализацию KNN (использовать KDTree из sklearn.neighbors). Необходимо добиться скорости работы на fit,  predict сравнимой со sklearn для iris. Допускается замедление не более чем в 2 раза. \n",
    "Для этого используем numpy. Точность не должна уступать значению KNN из sklearn. "
   ]
  },
  {
   "cell_type": "code",
   "execution_count": 26,
   "metadata": {},
   "outputs": [],
   "source": [
    "clf = KNeighborsClassifier(n_neighbors=2, algorithm='kd_tree')\n",
    "my_clf = MyKNeighborsClassifier(n_neighbors=2, algorithm='kd_tree')"
   ]
  },
  {
   "cell_type": "code",
   "execution_count": 27,
   "metadata": {},
   "outputs": [],
   "source": [
    "X_train, X_test, y_train, y_test = train_test_split(iris.data, iris.target, test_size=0.1, stratify=iris.target)"
   ]
  },
  {
   "cell_type": "code",
   "execution_count": 28,
   "metadata": {},
   "outputs": [
    {
     "name": "stdout",
     "output_type": "stream",
     "text": [
      "CPU times: user 726 µs, sys: 232 µs, total: 958 µs\n",
      "Wall time: 813 µs\n"
     ]
    },
    {
     "data": {
      "text/plain": [
       "KNeighborsClassifier(algorithm='kd_tree', n_neighbors=2)"
      ]
     },
     "execution_count": 28,
     "metadata": {},
     "output_type": "execute_result"
    }
   ],
   "source": [
    "%time clf.fit(X_train, y_train)"
   ]
  },
  {
   "cell_type": "code",
   "execution_count": 29,
   "metadata": {},
   "outputs": [
    {
     "name": "stdout",
     "output_type": "stream",
     "text": [
      "CPU times: user 5 µs, sys: 1 µs, total: 6 µs\n",
      "Wall time: 7.15 µs\n"
     ]
    }
   ],
   "source": [
    "%time my_clf.fit(X_train, y_train)"
   ]
  },
  {
   "cell_type": "code",
   "execution_count": 30,
   "metadata": {},
   "outputs": [
    {
     "name": "stdout",
     "output_type": "stream",
     "text": [
      "CPU times: user 2.08 ms, sys: 1.3 ms, total: 3.38 ms\n",
      "Wall time: 2.26 ms\n"
     ]
    },
    {
     "data": {
      "text/plain": [
       "array([2, 0, 1, 0, 2, 2, 2, 0, 1, 2, 0, 0, 1, 1, 1])"
      ]
     },
     "execution_count": 30,
     "metadata": {},
     "output_type": "execute_result"
    }
   ],
   "source": [
    "%time clf.predict(X_test)"
   ]
  },
  {
   "cell_type": "code",
   "execution_count": 31,
   "metadata": {},
   "outputs": [
    {
     "name": "stdout",
     "output_type": "stream",
     "text": [
      "CPU times: user 648 µs, sys: 305 µs, total: 953 µs\n",
      "Wall time: 749 µs\n"
     ]
    },
    {
     "data": {
      "text/plain": [
       "array([2, 0, 1, 0, 2, 2, 2, 0, 1, 2, 0, 0, 1, 1, 1])"
      ]
     },
     "execution_count": 31,
     "metadata": {},
     "output_type": "execute_result"
    }
   ],
   "source": [
    "%time my_clf.predict(X_test)"
   ]
  },
  {
   "cell_type": "code",
   "execution_count": 32,
   "metadata": {},
   "outputs": [],
   "source": [
    "sklearn_pred = clf.predict(X_test)\n",
    "my_clf_pred = my_clf.predict(X_test)\n",
    "assert abs( accuracy_score(y_test, my_clf_pred) -  accuracy_score(y_test, sklearn_pred ) )<0.005, \"Score must be simillar\""
   ]
  },
  {
   "cell_type": "markdown",
   "metadata": {},
   "source": [
    "**Задание 4 (2.5 балла)**\n",
    "\n",
    "Рассмотрим новый датасет 20 newsgroups"
   ]
  },
  {
   "cell_type": "code",
   "execution_count": 33,
   "metadata": {},
   "outputs": [],
   "source": [
    "newsgroups = fetch_20newsgroups(subset='train',remove=['headers','footers', 'quotes'])"
   ]
  },
  {
   "cell_type": "code",
   "execution_count": 34,
   "metadata": {},
   "outputs": [],
   "source": [
    "data = newsgroups['data']\n",
    "target = newsgroups['target']"
   ]
  },
  {
   "cell_type": "markdown",
   "metadata": {},
   "source": [
    "Преобразуйте текстовые данные из data с помощью [CountVectorizer](https://scikit-learn.org/stable/modules/generated/sklearn.feature_extraction.text.CountVectorizer.html). Словарь можно ограничить по частотности."
   ]
  },
  {
   "cell_type": "code",
   "execution_count": 74,
   "metadata": {},
   "outputs": [],
   "source": [
    "vectorizer = CountVectorizer(max_df=500, min_df=2, max_features=500, stop_words='english', lowercase=True)\n",
    "X = vectorizer.fit_transform(data)"
   ]
  },
  {
   "cell_type": "markdown",
   "metadata": {},
   "source": [
    "*Так мы получили векторное представление наших текстов. Значит можно приступать к задаче обучения модели*"
   ]
  },
  {
   "cell_type": "markdown",
   "metadata": {},
   "source": [
    "Реализуйте разбиение выборки для кросс-валидации на 3 фолдах. Разрешено использовать sklearn.cross_validation"
   ]
  },
  {
   "cell_type": "code",
   "execution_count": 38,
   "metadata": {},
   "outputs": [
    {
     "data": {
      "text/plain": [
       "3"
      ]
     },
     "execution_count": 38,
     "metadata": {},
     "output_type": "execute_result"
    }
   ],
   "source": [
    "folds = 3\n",
    "kf = KFold(n_splits=folds, shuffle=True)\n",
    "kf.get_n_splits(X)"
   ]
  },
  {
   "cell_type": "code",
   "execution_count": 75,
   "metadata": {},
   "outputs": [
    {
     "data": {
      "text/plain": [
       "0.2861071905658699"
      ]
     },
     "execution_count": 75,
     "metadata": {},
     "output_type": "execute_result"
    }
   ],
   "source": [
    "model = KNeighborsClassifier()\n",
    "cv = cross_validate(model,X,target,cv = kf,return_train_score = True)\n",
    "cv['test_score'].mean()"
   ]
  },
  {
   "cell_type": "code",
   "execution_count": 57,
   "metadata": {},
   "outputs": [
    {
     "name": "stdout",
     "output_type": "stream",
     "text": [
      "n_neighbors = 1, score_test = 0.2788577204370501, score_train = 0.92151318093656\n",
      "n_neighbors = 2, score_test = 0.25676147590226206, score_train = 0.6011583676786869\n",
      "n_neighbors = 3, score_test = 0.26657249390452464, score_train = 0.5259409269878127\n",
      "n_neighbors = 4, score_test = 0.27824102546653084, score_train = 0.5102975241076064\n",
      "n_neighbors = 5, score_test = 0.2836308729556805, score_train = 0.49787876359984656\n",
      "n_neighbors = 6, score_test = 0.2912314814580473, score_train = 0.47724065515347763\n",
      "n_neighbors = 7, score_test = 0.2921164982636648, score_train = 0.4724672858550955\n",
      "n_neighbors = 8, score_test = 0.2908796400578581, score_train = 0.45664643896341434\n",
      "n_neighbors = 9, score_test = 0.29406106995593145, score_train = 0.4471453152665752\n",
      "n_neighbors = 10, score_test = 0.2900838842015759, score_train = 0.4425937041078804\n",
      "n_neighbors = 11, score_test = 0.2907893245685596, score_train = 0.43375446227685277\n",
      "n_neighbors = 12, score_test = 0.2930878936093847, score_train = 0.42849550083572235\n",
      "n_neighbors = 13, score_test = 0.2919395464578283, score_train = 0.417491476048826\n",
      "n_neighbors = 14, score_test = 0.2940603200608465, score_train = 0.4162538679355074\n",
      "n_neighbors = 15, score_test = 0.29467928815084216, score_train = 0.41095124275202094\n",
      "n_neighbors = 16, score_test = 0.2945901912410567, score_train = 0.4058684831439732\n",
      "n_neighbors = 17, score_test = 0.29414965131284604, score_train = 0.40905086801375284\n",
      "n_neighbors = 18, score_test = 0.29503340267050765, score_train = 0.400035336459662\n",
      "n_neighbors = 19, score_test = 0.29025914874347114, score_train = 0.39738366058933233\n"
     ]
    },
    {
     "data": {
      "text/plain": [
       "(KNeighborsClassifier(algorithm='brute', n_neighbors=19),\n",
       " {'fit_time': array([0.00167894, 0.00169611, 0.00160003]),\n",
       "  'score_time': array([0.79786801, 0.81522822, 0.7649219 ]),\n",
       "  'test_score': array([0.29825027, 0.27870591, 0.29382127]),\n",
       "  'train_score': array([0.39485548, 0.39467056, 0.40262495])})"
      ]
     },
     "execution_count": 57,
     "metadata": {},
     "output_type": "execute_result"
    }
   ],
   "source": [
    "def change_params(X, target, algorithm='brute',  metric='minkowski'):\n",
    "    best_model = None\n",
    "    best_score = 0\n",
    "    for i in range(1,20):\n",
    "        model = KNeighborsClassifier(n_neighbors=i, algorithm=algorithm, metric=metric)\n",
    "        cv = cross_validate(model,X,target,cv = kf,return_train_score = True)\n",
    "        print(f\"n_neighbors = {i}, score_test = {cv['test_score'].mean()}, score_train = {cv['train_score'].mean()}\")\n",
    "        if cv['test_score'].mean()> best_score:\n",
    "            best_score = cv['test_score'].mean()\n",
    "            best_model = model\n",
    "    return model, cv\n",
    "\n",
    "change_params(X, target)"
   ]
  },
  {
   "cell_type": "markdown",
   "metadata": {},
   "source": [
    "Как изменится качество на валидации, если:\n",
    "\n",
    "1. Используется косинусная метрика вместо евклидовой.\n",
    "2. К текстам применяется TfIdf векторизацию( sklearn.feature_extraction.text.TfidfVectorizer)\n",
    "\n",
    "Сравните модели, выберите лучшую."
   ]
  },
  {
   "cell_type": "code",
   "execution_count": 58,
   "metadata": {},
   "outputs": [
    {
     "name": "stdout",
     "output_type": "stream",
     "text": [
      "n_neighbors = 1, score_test = 0.3206637387013073, score_train = 0.9214690543069729\n",
      "n_neighbors = 2, score_test = 0.31297527530288966, score_train = 0.627364382566617\n",
      "n_neighbors = 3, score_test = 0.3298562572980024, score_train = 0.5695159239008235\n",
      "n_neighbors = 4, score_test = 0.3451484225160124, score_train = 0.5551087228942465\n",
      "n_neighbors = 5, score_test = 0.35761034307793876, score_train = 0.5411879636335635\n",
      "n_neighbors = 6, score_test = 0.3640627450340776, score_train = 0.5353101922764417\n",
      "n_neighbors = 7, score_test = 0.37060239259651073, score_train = 0.5224502064881346\n",
      "n_neighbors = 8, score_test = 0.37899863978405274, score_train = 0.5140533559447301\n",
      "n_neighbors = 9, score_test = 0.3848338077825799, score_train = 0.5091038844219099\n",
      "n_neighbors = 10, score_test = 0.3899600905835768, score_train = 0.5040219802763399\n",
      "n_neighbors = 11, score_test = 0.39031277561573646, score_train = 0.4965527557440526\n",
      "n_neighbors = 12, score_test = 0.39393579998198375, score_train = 0.49359188292201467\n",
      "n_neighbors = 13, score_test = 0.3958818714644205, score_train = 0.4924875043006032\n",
      "n_neighbors = 14, score_test = 0.39738482525429175, score_train = 0.49080789747490794\n",
      "n_neighbors = 15, score_test = 0.3988861386486647, score_train = 0.4883772121717686\n",
      "n_neighbors = 16, score_test = 0.39915124999543034, score_train = 0.48828881242929323\n",
      "n_neighbors = 17, score_test = 0.40507380420558037, score_train = 0.4896587887127093\n",
      "n_neighbors = 18, score_test = 0.40710576210946986, score_train = 0.4860348387211239\n",
      "n_neighbors = 19, score_test = 0.407371998298863, score_train = 0.48656544811192926\n"
     ]
    },
    {
     "data": {
      "text/plain": [
       "(KNeighborsClassifier(algorithm='brute', metric='cosine', n_neighbors=19),\n",
       " {'fit_time': array([0.00182986, 0.0016911 , 0.00174093]),\n",
       "  'score_time': array([0.69190502, 0.73783898, 0.74759507]),\n",
       "  'test_score': array([0.40058324, 0.41262265, 0.4089101 ]),\n",
       "  'train_score': array([0.48952532, 0.48031287, 0.48985815])})"
      ]
     },
     "execution_count": 58,
     "metadata": {},
     "output_type": "execute_result"
    }
   ],
   "source": [
    "change_params(X, target, metric='cosine')"
   ]
  },
  {
   "cell_type": "code",
   "execution_count": 61,
   "metadata": {},
   "outputs": [
    {
     "name": "stdout",
     "output_type": "stream",
     "text": [
      "n_neighbors = 1, score_test = 0.4748111412662672, score_train = 0.9662365366172687\n",
      "n_neighbors = 2, score_test = 0.4510338897273653, score_train = 0.7123032344016759\n",
      "n_neighbors = 3, score_test = 0.478168023180007, score_train = 0.6886600796290255\n",
      "n_neighbors = 4, score_test = 0.5018573495201937, score_train = 0.6767283233630353\n",
      "n_neighbors = 5, score_test = 0.5190911102843518, score_train = 0.6722202236040636\n",
      "n_neighbors = 6, score_test = 0.5196217547938683, score_train = 0.6612603078687583\n",
      "n_neighbors = 7, score_test = 0.5345587978206924, score_train = 0.6576807305987057\n",
      "n_neighbors = 8, score_test = 0.538713779012855, score_train = 0.6524219859528607\n",
      "n_neighbors = 9, score_test = 0.5433975768452645, score_train = 0.6478257149653633\n",
      "n_neighbors = 10, score_test = 0.5479052665038081, score_train = 0.6484002634871305\n",
      "n_neighbors = 11, score_test = 0.5498497444591892, score_train = 0.6422130256490268\n",
      "n_neighbors = 12, score_test = 0.552235277895652, score_train = 0.6440250123634836\n",
      "n_neighbors = 13, score_test = 0.5494960986239519, score_train = 0.6411526740485579\n",
      "n_neighbors = 14, score_test = 0.55912969613595, score_train = 0.6372636244381911\n",
      "n_neighbors = 15, score_test = 0.5603685931190189, score_train = 0.6365566315750099\n",
      "n_neighbors = 16, score_test = 0.5564782311549724, score_train = 0.6388100779432957\n",
      "n_neighbors = 17, score_test = 0.5626657326723383, score_train = 0.6343468430897481\n",
      "n_neighbors = 18, score_test = 0.5710614877412307, score_train = 0.634921327158863\n",
      "n_neighbors = 19, score_test = 0.5673510068606964, score_train = 0.6348774466212214\n"
     ]
    },
    {
     "data": {
      "text/plain": [
       "(KNeighborsClassifier(algorithm='brute', metric='cosine', n_neighbors=19),\n",
       " {'fit_time': array([0.0028069 , 0.0026679 , 0.00342512]),\n",
       "  'score_time': array([0.96459413, 1.0525341 , 0.87567616]),\n",
       "  'test_score': array([0.55805938, 0.57915672, 0.56483691]),\n",
       "  'train_score': array([0.64173959, 0.62720403, 0.63568872])})"
      ]
     },
     "execution_count": 61,
     "metadata": {},
     "output_type": "execute_result"
    }
   ],
   "source": [
    "from sklearn.feature_extraction.text import TfidfVectorizer\n",
    "\n",
    "vectorizer = TfidfVectorizer(max_features=2000, min_df=20, max_df=1000,\\\n",
    "                             stop_words='english', token_pattern='\\w*[a-zA-Z]\\w+')\n",
    "X = vectorizer.fit_transform(data)\n",
    "\n",
    "folds = 3\n",
    "kf = KFold(n_splits=folds, shuffle=True)\n",
    "kf.get_n_splits(X)\n",
    "change_params(X, target, metric='cosine')"
   ]
  },
  {
   "cell_type": "markdown",
   "metadata": {},
   "source": [
    "Загрузим  теперь test  часть нашей выборки и преобразуем её аналогично с train частью. Не забудьте, что наборы слов в train и test части могут отличаться."
   ]
  },
  {
   "cell_type": "code",
   "execution_count": 63,
   "metadata": {},
   "outputs": [
    {
     "data": {
      "text/plain": [
       "KNeighborsClassifier(algorithm='brute', metric='cosine', n_neighbors=10)"
      ]
     },
     "execution_count": 63,
     "metadata": {},
     "output_type": "execute_result"
    }
   ],
   "source": [
    "vectorizer = TfidfVectorizer(max_features=2000, min_df=20, max_df=1000,\\\n",
    "                             stop_words='english', token_pattern='\\w*[a-zA-Z]\\w+')\n",
    "X_best = vectorizer.fit_transform(data)\n",
    "\n",
    "best_k=10 # По заданиию не должно превышать 10\n",
    "knn_best = KNeighborsClassifier(n_neighbors=best_k, algorithm='brute', metric='cosine')\n",
    "knn_best.fit(X_best.toarray(), target)"
   ]
  },
  {
   "cell_type": "code",
   "execution_count": 64,
   "metadata": {},
   "outputs": [],
   "source": [
    "newsgroups = fetch_20newsgroups(subset='test',remove=['headers','footers', 'quotes'])"
   ]
  },
  {
   "cell_type": "markdown",
   "metadata": {},
   "source": [
    "Оценим точность вашей лучшей модели на test части датасета. Отличается ли оно от кросс-валидации? Попробуйте сделать выводы, почему отличается качество."
   ]
  },
  {
   "cell_type": "code",
   "execution_count": 72,
   "metadata": {},
   "outputs": [
    {
     "data": {
      "text/plain": [
       "0.4782262347318109"
      ]
     },
     "execution_count": 72,
     "metadata": {},
     "output_type": "execute_result"
    }
   ],
   "source": [
    "data_test = newsgroups['data']\n",
    "target_test = newsgroups['target']\n",
    "X_test = vectorizer.transform(data_test)\n",
    "\n",
    "knn_pred_test = knn_best.predict(X_test.toarray())\n",
    "knn_best.score(X_test.toarray(),target_test)"
   ]
  },
  {
   "cell_type": "markdown",
   "metadata": {},
   "source": [
    "Выводы: Точность хоть и высокая, но не идеальная. Модель сильно переобучена - это видно по качеству на трейне и на тесте. Возможно, в тестовой части присутствуют данные, которых нет в трейне и это так же плохо влияет на качество модели. Метод KNN для классификации тектов - не самая лучшая модель"
   ]
  },
  {
   "cell_type": "code",
   "execution_count": null,
   "metadata": {},
   "outputs": [],
   "source": []
  }
 ],
 "metadata": {
  "kernelspec": {
   "display_name": "Python 3",
   "language": "python",
   "name": "python3"
  },
  "language_info": {
   "codemirror_mode": {
    "name": "ipython",
    "version": 3
   },
   "file_extension": ".py",
   "mimetype": "text/x-python",
   "name": "python",
   "nbconvert_exporter": "python",
   "pygments_lexer": "ipython3",
   "version": "3.8.5"
  }
 },
 "nbformat": 4,
 "nbformat_minor": 2
}
